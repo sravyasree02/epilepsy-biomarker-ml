import numpy as np
import pandas as pd

def generate_sweat_data(num_samples=1000):
    # Define the mean and standard deviation for each element.
    # We'll introduce variation to mimic real-world data and differentiate between patient and healthy.

    # Lactate (mM)
    lactate_mean_epilepsy = 2.5
    lactate_std_epilepsy = 0.8
    lactate_mean_healthy = 1.5
    lactate_std_healthy = 0.5

    # Manganese (Mn) (µM)
    mn_mean_epilepsy = 0.05
    mn_std_epilepsy = 0.02
    mn_mean_healthy = 0.02
    mn_std_healthy = 0.01

    # Copper (Cu) (µM)
    cu_mean_epilepsy = 1.2
    cu_std_epilepsy = 0.3
    cu_mean_healthy = 0.9
    cu_std_healthy = 0.2

    # Zinc (Zn) (µM)
    zn_mean_epilepsy = 0.8
    zn_std_epilepsy = 0.2
    zn_mean_healthy = 0.6
    zn_std_healthy = 0.15

    # Generate random labels (0 for healthy, 1 for epilepsy).
    labels = np.random.choice([0, 1], size=num_samples)

    # Generate random data based on labels.
    lactate = np.where(labels == 1,
                           np.random.normal(lactate_mean_epilepsy, lactate_std_epilepsy, num_samples),
                           np.random.normal(lactate_mean_healthy, lactate_std_healthy, num_samples))
    mn = np.where(labels == 1,
                           np.random.normal(mn_mean_epilepsy, mn_std_epilepsy, num_samples),
                           np.random.normal(mn_mean_healthy, mn_std_healthy, num_samples))
    cu = np.where(labels == 1,
                           np.random.normal(cu_mean_epilepsy, cu_std_epilepsy, num_samples),
                           np.random.normal(cu_mean_healthy, cu_std_healthy, num_samples))
    zn = np.where(labels == 1,
                           np.random.normal(zn_mean_epilepsy, zn_std_epilepsy, num_samples),
                           np.random.normal(zn_mean_healthy, zn_std_healthy, num_samples))

    # Create a DataFrame.
    data = pd.DataFrame({
        'Lactate (mM)': lactate,
        'Manganese (Mn) (µM)': mn,
        'Copper (Cu) (µM)': cu,
        'Zinc (Zn) (µM)': zn,
        'Epilepsy': labels
    })

    return data

# Generate the dataset.
sweat_data = generate_sweat_data(num_samples=1000)

# Print the first few rows of the dataset.
print(sweat_data.head())

# Save the dataset to a CSV file (optional).
sweat_data.to_csv('sweat_data.csv', index=False)
